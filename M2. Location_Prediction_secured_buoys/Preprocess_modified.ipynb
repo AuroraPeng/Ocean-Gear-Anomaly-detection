{
 "cells": [
  {
   "cell_type": "code",
   "execution_count": 1,
   "id": "5fd04bbb-b615-4faa-a322-e23b3a75e5a1",
   "metadata": {
    "execution": {
     "iopub.execute_input": "2022-11-29T23:39:58.959182Z",
     "iopub.status.busy": "2022-11-29T23:39:58.958753Z",
     "iopub.status.idle": "2022-11-29T23:39:58.966270Z",
     "shell.execute_reply": "2022-11-29T23:39:58.965556Z",
     "shell.execute_reply.started": "2022-11-29T23:39:58.959106Z"
    },
    "tags": []
   },
   "outputs": [],
   "source": [
    "# Only uncomment if you are running notebook using Docker image\n",
    "import os; os.environ['PROJ_LIB'] = '/opt/conda/share/proj'"
   ]
  },
  {
   "cell_type": "code",
   "execution_count": 38,
   "id": "f54857bc-c85f-49c4-983a-84aa23b09d24",
   "metadata": {
    "execution": {
     "iopub.execute_input": "2022-11-29T23:46:35.090888Z",
     "iopub.status.busy": "2022-11-29T23:46:35.090532Z",
     "iopub.status.idle": "2022-11-29T23:46:35.094208Z",
     "shell.execute_reply": "2022-11-29T23:46:35.093495Z",
     "shell.execute_reply.started": "2022-11-29T23:46:35.090862Z"
    },
    "tags": []
   },
   "outputs": [],
   "source": [
    "import pandas as pd\n",
    "import numpy as np\n",
    "from datetime import datetime"
   ]
  },
  {
   "cell_type": "code",
   "execution_count": 39,
   "id": "7f245740-8d99-47fd-8fb6-0e5690926dfe",
   "metadata": {
    "execution": {
     "iopub.execute_input": "2022-11-29T23:46:35.621818Z",
     "iopub.status.busy": "2022-11-29T23:46:35.621317Z",
     "iopub.status.idle": "2022-11-29T23:46:35.628270Z",
     "shell.execute_reply": "2022-11-29T23:46:35.627710Z",
     "shell.execute_reply.started": "2022-11-29T23:46:35.621789Z"
    },
    "tags": []
   },
   "outputs": [],
   "source": [
    "# Load dataset\n",
    "df = pd.read_csv(\"mock_particle_trajectory.csv\")"
   ]
  },
  {
   "cell_type": "code",
   "execution_count": 40,
   "id": "95d706be-6ac1-47c9-ae1d-1277701b4733",
   "metadata": {
    "execution": {
     "iopub.execute_input": "2022-11-29T23:46:36.083197Z",
     "iopub.status.busy": "2022-11-29T23:46:36.082884Z",
     "iopub.status.idle": "2022-11-29T23:46:36.092584Z",
     "shell.execute_reply": "2022-11-29T23:46:36.091857Z",
     "shell.execute_reply.started": "2022-11-29T23:46:36.083173Z"
    },
    "tags": []
   },
   "outputs": [
    {
     "data": {
      "text/html": [
       "<div>\n",
       "<style scoped>\n",
       "    .dataframe tbody tr th:only-of-type {\n",
       "        vertical-align: middle;\n",
       "    }\n",
       "\n",
       "    .dataframe tbody tr th {\n",
       "        vertical-align: top;\n",
       "    }\n",
       "\n",
       "    .dataframe thead th {\n",
       "        text-align: right;\n",
       "    }\n",
       "</style>\n",
       "<table border=\"1\" class=\"dataframe\">\n",
       "  <thead>\n",
       "    <tr style=\"text-align: right;\">\n",
       "      <th></th>\n",
       "      <th>trajectory_id</th>\n",
       "      <th>datetime</th>\n",
       "      <th>latitude</th>\n",
       "      <th>longitude</th>\n",
       "      <th>temperature</th>\n",
       "    </tr>\n",
       "  </thead>\n",
       "  <tbody>\n",
       "    <tr>\n",
       "      <th>0</th>\n",
       "      <td>1</td>\n",
       "      <td>4/13/2022 21:00</td>\n",
       "      <td>47.484776</td>\n",
       "      <td>-63.311108</td>\n",
       "      <td>2</td>\n",
       "    </tr>\n",
       "    <tr>\n",
       "      <th>1</th>\n",
       "      <td>1</td>\n",
       "      <td>4/13/2022 21:10</td>\n",
       "      <td>47.484440</td>\n",
       "      <td>-63.311733</td>\n",
       "      <td>3</td>\n",
       "    </tr>\n",
       "    <tr>\n",
       "      <th>2</th>\n",
       "      <td>1</td>\n",
       "      <td>4/13/2022 21:20</td>\n",
       "      <td>47.484764</td>\n",
       "      <td>-63.311810</td>\n",
       "      <td>0</td>\n",
       "    </tr>\n",
       "    <tr>\n",
       "      <th>3</th>\n",
       "      <td>1</td>\n",
       "      <td>4/13/2022 21:30</td>\n",
       "      <td>47.484920</td>\n",
       "      <td>-63.311733</td>\n",
       "      <td>-1</td>\n",
       "    </tr>\n",
       "    <tr>\n",
       "      <th>4</th>\n",
       "      <td>1</td>\n",
       "      <td>4/13/2022 21:40</td>\n",
       "      <td>47.485010</td>\n",
       "      <td>-63.311676</td>\n",
       "      <td>-1</td>\n",
       "    </tr>\n",
       "  </tbody>\n",
       "</table>\n",
       "</div>"
      ],
      "text/plain": [
       "   trajectory_id         datetime   latitude  longitude  temperature\n",
       "0              1  4/13/2022 21:00  47.484776 -63.311108            2\n",
       "1              1  4/13/2022 21:10  47.484440 -63.311733            3\n",
       "2              1  4/13/2022 21:20  47.484764 -63.311810            0\n",
       "3              1  4/13/2022 21:30  47.484920 -63.311733           -1\n",
       "4              1  4/13/2022 21:40  47.485010 -63.311676           -1"
      ]
     },
     "execution_count": 40,
     "metadata": {},
     "output_type": "execute_result"
    }
   ],
   "source": [
    "df.head()"
   ]
  },
  {
   "cell_type": "code",
   "execution_count": 41,
   "id": "daff901b-e8c7-4305-9aad-43b810577497",
   "metadata": {
    "execution": {
     "iopub.execute_input": "2022-11-29T23:46:38.119813Z",
     "iopub.status.busy": "2022-11-29T23:46:38.119451Z",
     "iopub.status.idle": "2022-11-29T23:46:38.125460Z",
     "shell.execute_reply": "2022-11-29T23:46:38.124785Z",
     "shell.execute_reply.started": "2022-11-29T23:46:38.119787Z"
    },
    "tags": []
   },
   "outputs": [],
   "source": [
    "def datetime_to_timestamp(dt):\n",
    "    #dt is a datetime object\n",
    "    #convert to timestamp integer \n",
    "    return datetime.strptime(dt, '%m/%d/%Y %H:%M').minute"
   ]
  },
  {
   "cell_type": "code",
   "execution_count": 90,
   "id": "cf3b31d2-7068-488a-94da-b389e8bd8c7d",
   "metadata": {
    "execution": {
     "iopub.execute_input": "2022-11-30T00:15:04.189901Z",
     "iopub.status.busy": "2022-11-30T00:15:04.189550Z",
     "iopub.status.idle": "2022-11-30T00:15:04.195406Z",
     "shell.execute_reply": "2022-11-30T00:15:04.194659Z",
     "shell.execute_reply.started": "2022-11-30T00:15:04.189876Z"
    },
    "tags": []
   },
   "outputs": [],
   "source": [
    "def mask_rows(df, time_interval, mask_val, mask_lst):\n",
    "    #df['timestamp_minute'] = df['datetime'].map(lambda x: datetime_to_timestamp(x))\n",
    "    t = datetime.strptime(df.iloc[0].datetime, '%m/%d/%Y %H:%M')\n",
    "    df['tdiff'] = df.datetime.map(lambda x: datetime.strptime(x, '%m/%d/%Y %H:%M')) - t\n",
    "    df['tdiff_min'] = df.tdiff.map(lambda x: int(x.seconds/60))\n",
    "    for i in range(len(df.tdiff_min)):\n",
    "        if(df.tdiff_min[i] % time_interval != 0):\n",
    "            for col in mask_lst:\n",
    "                df[col][i] = mask_val\n",
    "    df_new = df[['trajectory_id', 'datetime', 'latitude','longitude', 'temperature']]\n",
    "    return df_new"
   ]
  },
  {
   "cell_type": "code",
   "execution_count": 91,
   "id": "7994d854-7667-42a6-9f6b-6e481e5c937c",
   "metadata": {
    "execution": {
     "iopub.execute_input": "2022-11-30T00:15:04.654636Z",
     "iopub.status.busy": "2022-11-30T00:15:04.653860Z",
     "iopub.status.idle": "2022-11-30T00:15:12.189938Z",
     "shell.execute_reply": "2022-11-30T00:15:12.189196Z",
     "shell.execute_reply.started": "2022-11-30T00:15:04.654599Z"
    },
    "tags": []
   },
   "outputs": [
    {
     "name": "stderr",
     "output_type": "stream",
     "text": [
      "/tmp/ipykernel_1471/1711741258.py:9: SettingWithCopyWarning: \n",
      "A value is trying to be set on a copy of a slice from a DataFrame\n",
      "\n",
      "See the caveats in the documentation: https://pandas.pydata.org/pandas-docs/stable/user_guide/indexing.html#returning-a-view-versus-a-copy\n",
      "  df[col][i] = mask_val\n"
     ]
    },
    {
     "data": {
      "text/html": [
       "<div>\n",
       "<style scoped>\n",
       "    .dataframe tbody tr th:only-of-type {\n",
       "        vertical-align: middle;\n",
       "    }\n",
       "\n",
       "    .dataframe tbody tr th {\n",
       "        vertical-align: top;\n",
       "    }\n",
       "\n",
       "    .dataframe thead th {\n",
       "        text-align: right;\n",
       "    }\n",
       "</style>\n",
       "<table border=\"1\" class=\"dataframe\">\n",
       "  <thead>\n",
       "    <tr style=\"text-align: right;\">\n",
       "      <th></th>\n",
       "      <th>trajectory_id</th>\n",
       "      <th>datetime</th>\n",
       "      <th>latitude</th>\n",
       "      <th>longitude</th>\n",
       "      <th>temperature</th>\n",
       "    </tr>\n",
       "  </thead>\n",
       "  <tbody>\n",
       "    <tr>\n",
       "      <th>0</th>\n",
       "      <td>1</td>\n",
       "      <td>4/13/2022 21:00</td>\n",
       "      <td>47.484776</td>\n",
       "      <td>-63.311108</td>\n",
       "      <td>2</td>\n",
       "    </tr>\n",
       "    <tr>\n",
       "      <th>1</th>\n",
       "      <td>1</td>\n",
       "      <td>4/13/2022 21:10</td>\n",
       "      <td>-999.000000</td>\n",
       "      <td>-999.000000</td>\n",
       "      <td>-999</td>\n",
       "    </tr>\n",
       "    <tr>\n",
       "      <th>2</th>\n",
       "      <td>1</td>\n",
       "      <td>4/13/2022 21:20</td>\n",
       "      <td>-999.000000</td>\n",
       "      <td>-999.000000</td>\n",
       "      <td>-999</td>\n",
       "    </tr>\n",
       "    <tr>\n",
       "      <th>3</th>\n",
       "      <td>1</td>\n",
       "      <td>4/13/2022 21:30</td>\n",
       "      <td>-999.000000</td>\n",
       "      <td>-999.000000</td>\n",
       "      <td>-999</td>\n",
       "    </tr>\n",
       "    <tr>\n",
       "      <th>4</th>\n",
       "      <td>1</td>\n",
       "      <td>4/13/2022 21:40</td>\n",
       "      <td>-999.000000</td>\n",
       "      <td>-999.000000</td>\n",
       "      <td>-999</td>\n",
       "    </tr>\n",
       "    <tr>\n",
       "      <th>...</th>\n",
       "      <td>...</td>\n",
       "      <td>...</td>\n",
       "      <td>...</td>\n",
       "      <td>...</td>\n",
       "      <td>...</td>\n",
       "    </tr>\n",
       "    <tr>\n",
       "      <th>514</th>\n",
       "      <td>1</td>\n",
       "      <td>4/17/2022 10:40</td>\n",
       "      <td>-999.000000</td>\n",
       "      <td>-999.000000</td>\n",
       "      <td>-999</td>\n",
       "    </tr>\n",
       "    <tr>\n",
       "      <th>515</th>\n",
       "      <td>1</td>\n",
       "      <td>4/17/2022 10:50</td>\n",
       "      <td>-999.000000</td>\n",
       "      <td>-999.000000</td>\n",
       "      <td>-999</td>\n",
       "    </tr>\n",
       "    <tr>\n",
       "      <th>516</th>\n",
       "      <td>1</td>\n",
       "      <td>4/17/2022 11:00</td>\n",
       "      <td>47.901695</td>\n",
       "      <td>-62.330463</td>\n",
       "      <td>12</td>\n",
       "    </tr>\n",
       "    <tr>\n",
       "      <th>517</th>\n",
       "      <td>1</td>\n",
       "      <td>4/17/2022 11:10</td>\n",
       "      <td>-999.000000</td>\n",
       "      <td>-999.000000</td>\n",
       "      <td>-999</td>\n",
       "    </tr>\n",
       "    <tr>\n",
       "      <th>518</th>\n",
       "      <td>1</td>\n",
       "      <td>4/17/2022 11:20</td>\n",
       "      <td>-999.000000</td>\n",
       "      <td>-999.000000</td>\n",
       "      <td>-999</td>\n",
       "    </tr>\n",
       "  </tbody>\n",
       "</table>\n",
       "<p>519 rows × 5 columns</p>\n",
       "</div>"
      ],
      "text/plain": [
       "     trajectory_id         datetime    latitude   longitude  temperature\n",
       "0                1  4/13/2022 21:00   47.484776  -63.311108            2\n",
       "1                1  4/13/2022 21:10 -999.000000 -999.000000         -999\n",
       "2                1  4/13/2022 21:20 -999.000000 -999.000000         -999\n",
       "3                1  4/13/2022 21:30 -999.000000 -999.000000         -999\n",
       "4                1  4/13/2022 21:40 -999.000000 -999.000000         -999\n",
       "..             ...              ...         ...         ...          ...\n",
       "514              1  4/17/2022 10:40 -999.000000 -999.000000         -999\n",
       "515              1  4/17/2022 10:50 -999.000000 -999.000000         -999\n",
       "516              1  4/17/2022 11:00   47.901695  -62.330463           12\n",
       "517              1  4/17/2022 11:10 -999.000000 -999.000000         -999\n",
       "518              1  4/17/2022 11:20 -999.000000 -999.000000         -999\n",
       "\n",
       "[519 rows x 5 columns]"
      ]
     },
     "execution_count": 91,
     "metadata": {},
     "output_type": "execute_result"
    }
   ],
   "source": [
    "mask_rows(df, 60, -999, ['latitude','longitude', 'temperature'])"
   ]
  },
  {
   "cell_type": "code",
   "execution_count": null,
   "id": "d3cd7234-744d-4b3d-90ab-f45c4172e15f",
   "metadata": {},
   "outputs": [],
   "source": []
  }
 ],
 "metadata": {
  "kernelspec": {
   "display_name": "saturn (Python 3)",
   "language": "python",
   "name": "python3"
  },
  "language_info": {
   "codemirror_mode": {
    "name": "ipython",
    "version": 3
   },
   "file_extension": ".py",
   "mimetype": "text/x-python",
   "name": "python",
   "nbconvert_exporter": "python",
   "pygments_lexer": "ipython3",
   "version": "3.9.12"
  }
 },
 "nbformat": 4,
 "nbformat_minor": 5
}
